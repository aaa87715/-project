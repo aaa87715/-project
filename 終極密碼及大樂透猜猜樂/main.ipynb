{
 "cells": [
  {
   "cell_type": "code",
   "execution_count": 1,
   "id": "a82be788",
   "metadata": {},
   "outputs": [],
   "source": [
    "from games.guess import Guess \n",
    "from games.lottery import Lottery\n",
    "def main():\n",
    "    a=0\n",
    "    while 1:\n",
    "        x=int(input(\"請輸入代號 (0)離開 (1) 終極密碼 (2) 539樂透 (3) 649樂透 \"))\n",
    "        if x==1:\n",
    "            obj=Guess()\n",
    "            obj.play()\n",
    "            a=a+obj.cnt()\n",
    "        elif x==2:\n",
    "            obj=Lottery()\n",
    "            obj.play()\n",
    "        elif x==3:\n",
    "            obj=Lottery(6,49)\n",
    "            obj.play()\n",
    "        elif x==0:\n",
    "            print(\"結束\")\n",
    "            break\n",
    "        else:\n",
    "            print(\"輸入錯誤\")\n",
    "            continue\n",
    "    print(\"總共遊玩了{}次終極密碼\".format(a))"
   ]
  },
  {
   "cell_type": "code",
   "execution_count": 2,
   "id": "ec8a86f0",
   "metadata": {},
   "outputs": [
    {
     "name": "stdout",
     "output_type": "stream",
     "text": [
      "請輸入代號 (0)離開 (1) 終極密碼 (2) 539樂透 (3) 649樂透 1\n",
      "請輸入數字次,猜測範圍1~10050\n",
      "第1次猜測太大了,猜小一點,下次猜測範圍1~50\n",
      "請輸入數字次,猜測範圍1~5025\n",
      "第2次猜測太小了,猜大一點,下次猜測範圍25~50\n",
      "請輸入數字次,猜測範圍25~5028\n",
      "第3次猜測太小了,猜大一點,下次猜測範圍28~50\n",
      "請輸入數字次,猜測範圍28~5035\n",
      "第4次猜測太小了,猜大一點,下次猜測範圍35~50\n",
      "請輸入數字次,猜測範圍35~5045\n",
      "第5次猜測太小了,猜大一點,下次猜測範圍45~50\n",
      "請輸入數字次,猜測範圍45~5046\n",
      "恭喜猜對\n",
      "請輸入代號 (0)離開 (1) 終極密碼 (2) 539樂透 (3) 649樂透 2\n",
      "請輸入5個選號:範圍1~391 2 3 4 5 \n",
      "您的選號: [1, 2, 3, 4, 5]\n",
      "開獎號碼: [35, 13, 28, 32, 16]\n",
      "恭喜中獎0個數字 []\n",
      "請輸入代號 (0)離開 (1) 終極密碼 (2) 539樂透 (3) 649樂透 3 \n",
      "請輸入6個選號:範圍1~492 1 4 5 6 3 \n",
      "您的選號: [2, 1, 4, 5, 6, 3]\n",
      "開獎號碼: [15, 40, 36, 14, 41, 32]\n",
      "恭喜中獎0個數字 []\n",
      "請輸入代號 (0)離開 (1) 終極密碼 (2) 539樂透 (3) 649樂透 0\n",
      "結束\n",
      "總共遊玩了1次終極密碼\n"
     ]
    }
   ],
   "source": [
    "main()"
   ]
  },
  {
   "cell_type": "code",
   "execution_count": null,
   "id": "636eb3e5",
   "metadata": {},
   "outputs": [],
   "source": []
  }
 ],
 "metadata": {
  "kernelspec": {
   "display_name": "Python 3 (ipykernel)",
   "language": "python",
   "name": "python3"
  },
  "language_info": {
   "codemirror_mode": {
    "name": "ipython",
    "version": 3
   },
   "file_extension": ".py",
   "mimetype": "text/x-python",
   "name": "python",
   "nbconvert_exporter": "python",
   "pygments_lexer": "ipython3",
   "version": "3.9.13"
  }
 },
 "nbformat": 4,
 "nbformat_minor": 5
}
